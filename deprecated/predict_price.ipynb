{
 "cells": [
  {
   "cell_type": "code",
   "execution_count": 3,
   "id": "d506ac5d515a3bc5",
   "metadata": {
    "ExecuteTime": {
     "end_time": "2025-06-08T19:04:06.403809Z",
     "start_time": "2025-06-08T19:04:05.992470Z"
    }
   },
   "outputs": [],
   "source": [
    "import pandas as pd\n",
    "import numpy as np\n",
    "import matplotlib.pyplot as plt\n",
    "from sklearn.model_selection import train_test_split, GridSearchCV\n",
    "from sklearn.metrics import mean_squared_error, r2_score\n",
    "from sklearn.ensemble import RandomForestRegressor\n",
    "from sklearn.feature_selection import RFE\n",
    "from sklearn.linear_model import LinearRegression\n",
    "from sklearn.svm import SVR\n",
    "from catboost import CatBoostRegressor\n",
    "from xgboost import XGBRegressor\n",
    "from lightgbm import LGBMRegressor\n",
    "from sklearn.neural_network import MLPRegressor"
   ]
  },
  {
   "cell_type": "code",
   "execution_count": 4,
   "id": "83a628a74bbd7617",
   "metadata": {
    "ExecuteTime": {
     "end_time": "2025-06-08T19:04:06.408798Z",
     "start_time": "2025-06-06T09:03:33.376384Z"
    }
   },
   "outputs": [],
   "source": [
    "# Load the data\n",
    "data_df_encoded = pd.read_csv(\"./data/processed_data.csv\")"
   ]
  },
  {
   "cell_type": "code",
   "execution_count": 5,
   "id": "644121ffb0a9871b",
   "metadata": {
    "ExecuteTime": {
     "end_time": "2025-06-08T19:04:06.411829Z",
     "start_time": "2025-06-06T09:03:33.406882Z"
    }
   },
   "outputs": [],
   "source": [
    "# Split the data\n",
    "X = data_df_encoded.drop(columns=[\"price\", \"Log Price\"])  # Features\n",
    "y = data_df_encoded[\"Log Price\"]  # Target (log-transformed price)\n",
    "X_train, X_test, y_train, y_test = train_test_split(\n",
    "    X, y, test_size=0.2, random_state=42\n",
    ")"
   ]
  },
  {
   "cell_type": "code",
   "execution_count": null,
   "id": "99d195aacb54070",
   "metadata": {
    "ExecuteTime": {
     "end_time": "2025-06-08T19:04:06.412138Z",
     "start_time": "2025-06-06T09:03:33.423673Z"
    }
   },
   "outputs": [],
   "source": [
    "# Step 3: Feature Selection\n",
    "\n",
    "# Correlation-Based Filtering\n",
    "correlation_matrix = X.corr().abs()\n",
    "upper_triangle = correlation_matrix.where(\n",
    "    np.triu(np.ones(correlation_matrix.shape), k=1).astype(bool)\n",
    ")\n",
    "high_correlation_features = [\n",
    "    column for column in upper_triangle.columns if any(upper_triangle[column] > 0.85)\n",
    "]\n",
    "X_selected = X.drop(columns=high_correlation_features)\n",
    "\n",
    "\n",
    "X_train_selected = X_train[X_selected.columns]\n",
    "\n",
    "# Univariate Feature Importance\n",
    "# Use RandomForest to calculate feature importances\n",
    "importance_model = RandomForestRegressor(random_state=42)\n",
    "importance_model.fit(X_train, y_train)\n",
    "\n",
    "# Rank features by importance\n",
    "feature_importances = pd.Series(\n",
    "    importance_model.feature_importances_, index=X_train.columns\n",
    ")\n",
    "top_features = feature_importances.nlargest(25).index\n",
    "\n",
    "# Ensure top features exist in X_train_selected\n",
    "top_features = [\n",
    "    feature for feature in top_features if feature in X_train_selected.columns\n",
    "]\n",
    "X_train_selected = X_train_selected[top_features]\n",
    "\n",
    "#Recursive Feature Elimination (RFE)\n",
    "rfe_model = RandomForestRegressor(random_state=42)\n",
    "rfe = RFE(estimator=rfe_model, n_features_to_select=20, step=1)\n",
    "\n",
    "# Fit RFE on the subset of X_train_selected and y_train\n",
    "rfe.fit(X_train_selected, y_train)\n",
    "\n",
    "# Select final features based on RFE\n",
    "selected_features_rfe = X_train_selected.columns[rfe.support_]\n",
    "X_train_final = X_train_selected[selected_features_rfe]\n",
    "\n",
    "# Apply the same transformation to X_test\n",
    "X_test_final = X_test[X_train_final.columns]\n",
    "\n",
    "print(\"Selected Features After RFE:\", list(selected_features_rfe))"
   ]
  },
  {
   "cell_type": "code",
   "execution_count": null,
   "id": "76ed995a8cb792b5",
   "metadata": {
    "ExecuteTime": {
     "end_time": "2025-06-08T19:04:06.412936Z",
     "start_time": "2025-06-06T09:03:36.466786Z"
    }
   },
   "outputs": [],
   "source": [
    "# Train Models (Without Hyperparameter Tuning) with Selected Features to get a sense of performance\n",
    "models = {\n",
    "    \"Linear Regression\": LinearRegression(),\n",
    "    \"Random Forest\": RandomForestRegressor(\n",
    "        random_state=42, max_depth=10, n_estimators=100\n",
    "    ),\n",
    "    \"SVR\": SVR(kernel=\"rbf\"),\n",
    "    \"MLP\": MLPRegressor(random_state=42, max_iter=1000),\n",
    "    \"CatBoost\": CatBoostRegressor(\n",
    "        verbose=0, random_state=42, learning_rate=0.05, iterations=500, depth=4\n",
    "    ),\n",
    "    \"XGBoost\": XGBRegressor(random_state=42, n_estimators=100),\n",
    "    # \"LightGBM\": LGBMRegressor(random_state=42, n_estimators=100),\n",
    "}\n",
    "\n",
    "baseline_results = {}\n",
    "for name, model in models.items():\n",
    "    model.fit(X_train_final, y_train)\n",
    "\n",
    "    predictions_test = model.predict(X_test_final)\n",
    "    predictions_train = model.predict(X_train_final)\n",
    "\n",
    "    rmse_test = np.sqrt(mean_squared_error(y_test, predictions_test))\n",
    "    r2_test = r2_score(y_test, predictions_test)\n",
    "\n",
    "    rmse_train = np.sqrt(mean_squared_error(y_train, predictions_train))\n",
    "    r2_train = r2_score(y_train, predictions_train)\n",
    "\n",
    "    baseline_results[name] = {\n",
    "        \"RMSE Test\": rmse_test,\n",
    "        \"R² Test\": r2_test,\n",
    "        \"RMSE Train\": rmse_train,\n",
    "        \"R² Train\": r2_train,\n",
    "    }\n",
    "\n",
    "print(\"Baseline Model Results:\")\n",
    "for name, metrics in baseline_results.items():\n",
    "    print(\n",
    "        f\"{name}: RMSE Train = {metrics['RMSE Train']:.4f}, R² Train = {metrics['R² Train']:.4f}, \"\n",
    "        f\"RMSE Test = {metrics['RMSE Test']:.4f}, R² Test = {metrics['R² Test']:.4f}\"\n",
    "    )"
   ]
  },
  {
   "cell_type": "code",
   "execution_count": null,
   "id": "d67c70a0154dd018",
   "metadata": {
    "ExecuteTime": {
     "end_time": "2025-06-08T19:04:06.414008Z",
     "start_time": "2025-06-06T09:03:37.527192Z"
    }
   },
   "outputs": [],
   "source": [
    "# Plot the baseline results\n",
    "model_names = list(baseline_results.keys())\n",
    "rmse_values = [baseline_results[name]['RMSE Test'] for name in model_names]\n",
    "r2_values = [baseline_results[name]['R² Test'] for name in model_names]\n",
    "\n",
    "# RMSE\n",
    "plt.figure(figsize=(12, 6))\n",
    "plt.bar(model_names, rmse_values, color='skyblue')\n",
    "plt.title(\"Model Comparison: Test RMSE (Selected Features)\")\n",
    "plt.ylabel(\"RMSE\")\n",
    "plt.show()\n",
    "\n",
    "# R²\n",
    "plt.figure(figsize=(12, 6))\n",
    "plt.bar(model_names, r2_values, color='lightgreen')\n",
    "plt.title(\"Model Comparison: Test R² (Selected Features)\")\n",
    "plt.ylabel(\"R²\")\n",
    "plt.show()"
   ]
  },
  {
   "cell_type": "code",
   "execution_count": null,
   "id": "88d056a148baa294",
   "metadata": {
    "ExecuteTime": {
     "end_time": "2025-06-08T19:04:06.414432Z",
     "start_time": "2025-06-06T09:03:37.828721Z"
    }
   },
   "outputs": [],
   "source": [
    "# Re-train Models with Hyperparameter Tuning\n",
    "\n",
    "# Define hyperparameter grids for tuning\n",
    "param_grids = {\n",
    "    \"Linear Regression\": {},\n",
    "    \"SVR\": {\"C\": [0.1, 1, 10], \"gamma\": [\"scale\", \"auto\"]},\n",
    "    \"Random Forest\": {\"n_estimators\": [100, 200], \"max_depth\": [10, 20]},\n",
    "    \"CatBoost\": {\n",
    "        \"iterations\": [500, 1000],\n",
    "        \"learning_rate\": [0.01, 0.05],\n",
    "        \"depth\": [4, 6],\n",
    "    },\n",
    "    \"XGBoost\": {\n",
    "        \"n_estimators\": [100, 200],\n",
    "        \"max_depth\": [3, 5],\n",
    "        \"learning_rate\": [0.01, 0.05]\n",
    "    },\n",
    "    # \"LightGBM\": {\n",
    "    #     \"n_estimators\": [100, 200],\n",
    "    #     \"max_depth\": [3, 5],\n",
    "    #     \"learning_rate\": [0.01, 0.05]\n",
    "    # },\n",
    "    \"MLP\": {\n",
    "        \"hidden_layer_sizes\": [(50,), (100,)],\n",
    "        \"alpha\": [0.0001, 0.001],\n",
    "        \"learning_rate_init\": [0.001, 0.01]\n",
    "    }\n",
    "}\n",
    "\n",
    "tuned_results = {}\n",
    "for name, model in models.items():\n",
    "    print(f\"Tuning hyperparameters for {name} with selected features...\")\n",
    "    grid_search = GridSearchCV(\n",
    "        model, param_grids[name], scoring=\"neg_mean_squared_error\", cv=3\n",
    "    )\n",
    "    grid_search.fit(X_train_final, y_train)\n",
    "    best_model = grid_search.best_estimator_\n",
    "\n",
    "    predictions = best_model.predict(X_test_final)\n",
    "    predictions_train = best_model.predict(X_train_final)\n",
    "    rmse = np.sqrt(mean_squared_error(y_test, predictions))\n",
    "    r2 = r2_score(y_test, predictions)\n",
    "    rmse_train = np.sqrt(mean_squared_error(y_train, predictions_train))\n",
    "    r2_train = r2_score(y_train, predictions_train)\n",
    "\n",
    "    tuned_results[name] = {\n",
    "        \"Best Params\": grid_search.best_params_,\n",
    "        \"RMSE Test\": rmse,\n",
    "        \"R² Test\": r2,\n",
    "        \"RMSE Train\": rmse_train,\n",
    "        \"R² Train\": r2_train,\n",
    "    }"
   ]
  },
  {
   "cell_type": "code",
   "execution_count": null,
   "id": "3fd434350ffdf1b0",
   "metadata": {
    "ExecuteTime": {
     "end_time": "2025-06-08T19:04:06.416392Z",
     "start_time": "2025-06-06T09:03:56.822190Z"
    }
   },
   "outputs": [],
   "source": [
    "# Step 5: Compare Models\n",
    "print(\"\\nComparison of Hyperparameter Tuning:\")\n",
    "for name in models.keys():\n",
    "    baseline_rmse = baseline_results[name][\"RMSE Test\"]\n",
    "    tuned_rmse = tuned_results[name][\"RMSE Test\"]\n",
    "    baseline_r2 = baseline_results[name][\"R² Test\"]\n",
    "    tuned_r2 = tuned_results[name][\"R² Test\"]\n",
    "    baseline_rmse_train = baseline_results[name][\"RMSE Train\"]\n",
    "    tuned_rmse_train = tuned_results[name][\"RMSE Train\"]\n",
    "    baseline_r2_train = baseline_results[name][\"R² Train\"]\n",
    "    tuned_r2_train = tuned_results[name][\"R² Train\"]\n",
    "\n",
    "    print(\n",
    "        f\"{name}: Untuned RMSE Train = {baseline_rmse_train:.4f}, Tuned RMSE Train = {tuned_rmse_train:.4f}\"\n",
    "    )\n",
    "    print(\n",
    "        f\"{name}: Untuned R² Train = {baseline_r2_train:.4f}, Tuned R² Train = {tuned_r2_train:.4f}\"\n",
    "    )\n",
    "    print(\n",
    "        f\"{name}: Untuned RMSE Test = {baseline_rmse:.4f}, Tuned RMSE Test = {tuned_rmse:.4f}\"\n",
    "    )\n",
    "    print(\n",
    "        f\"{name}: Untuned R² Test = {baseline_r2:.4f}, Tuned R² Test = {tuned_r2:.4f}\\n\"\n",
    "    )"
   ]
  },
  {
   "cell_type": "code",
   "execution_count": null,
   "id": "fe06449d289bbb44",
   "metadata": {
    "ExecuteTime": {
     "end_time": "2025-06-08T19:04:06.416817Z",
     "start_time": "2025-06-06T09:03:56.857659Z"
    }
   },
   "outputs": [],
   "source": [
    "# Get the table of results\n",
    "results_df = pd.DataFrame(tuned_results).T\n",
    "results_df = results_df[\n",
    "    [\"RMSE Train\", \"R² Train\", \"RMSE Test\", \"R² Test\", \"Best Params\"]\n",
    "]\n",
    "print(results_df)"
   ]
  },
  {
   "cell_type": "code",
   "execution_count": 20,
   "id": "b00a38b43e111a37",
   "metadata": {
    "ExecuteTime": {
     "end_time": "2025-06-08T19:04:06.417522Z",
     "start_time": "2025-06-06T09:03:56.901575Z"
    }
   },
   "outputs": [],
   "source": [
    "# Save the results to a CSV file\n",
    "results_df.to_csv(\"./data/model_comparison_results.csv\")"
   ]
  },
  {
   "cell_type": "code",
   "execution_count": null,
   "id": "f4105e4064b636ae",
   "metadata": {
    "ExecuteTime": {
     "end_time": "2025-06-08T19:04:06.417688Z",
     "start_time": "2025-06-06T09:03:56.939675Z"
    }
   },
   "outputs": [],
   "source": [
    "# RMSE\n",
    "model_names = list(tuned_results.keys())\n",
    "rmse_values = [tuned_results[name][\"RMSE Test\"] for name in model_names]\n",
    "r2_values = [tuned_results[name][\"R² Test\"] for name in model_names]\n",
    "\n",
    "plt.figure(figsize=(12, 6))\n",
    "plt.bar(model_names, rmse_values, color=\"skyblue\")\n",
    "plt.title(\"Model Comparison: Test RMSE Tuned\")\n",
    "plt.ylabel(\"RMSE\")\n",
    "plt.show()\n",
    "\n",
    "# R²\n",
    "plt.figure(figsize=(12, 6))\n",
    "plt.bar(model_names, r2_values, color=\"lightgreen\")\n",
    "plt.title(\"Model Comparison: Test R² Tuned\")\n",
    "plt.ylabel(\"R²\")\n",
    "plt.show()"
   ]
  }
 ],
 "metadata": {
  "kernelspec": {
   "display_name": ".venv",
   "language": "python",
   "name": "python3"
  },
  "language_info": {
   "codemirror_mode": {
    "name": "ipython",
    "version": 3
   },
   "file_extension": ".py",
   "mimetype": "text/x-python",
   "name": "python",
   "nbconvert_exporter": "python",
   "pygments_lexer": "ipython3",
   "version": "3.13.2"
  }
 },
 "nbformat": 5,
 "nbformat_minor": 9
}
