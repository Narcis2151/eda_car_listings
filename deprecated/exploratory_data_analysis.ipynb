{
 "cells": [
  {
   "cell_type": "code",
   "execution_count": 1,
   "id": "880dfc5e4adc4409",
   "metadata": {
    "ExecuteTime": {
     "end_time": "2025-06-08T19:43:18.005830Z",
     "start_time": "2025-06-08T19:43:17.960109Z"
    }
   },
   "outputs": [],
   "source": [
    "import numpy as np\n",
    "import pandas as pd\n",
    "import matplotlib.pyplot as plt\n",
    "import seaborn as sns\n",
    "from sklearn.preprocessing import OneHotEncoder, StandardScaler\n",
    "from datetime import datetime"
   ]
  },
  {
   "cell_type": "code",
   "execution_count": 5,
   "id": "74f9cb46511c036",
   "metadata": {
    "ExecuteTime": {
     "end_time": "2025-06-08T19:43:18.094647Z",
     "start_time": "2025-06-08T19:43:18.092843Z"
    }
   },
   "outputs": [],
   "source": [
    "# Load the data\n",
    "def load_and_clean_data() -> pd.DataFrame:\n",
    "    with open('./data/listings_details.pkl', 'rb') as f:\n",
    "        data = pd.read_pickle(f)\n",
    "\n",
    "    # Add 'Make' column for each brand\n",
    "    for make, records in data.items():\n",
    "        for record in records:\n",
    "            record['Make'] = make\n",
    "\n",
    "    # Combine all records into a single DataFrame\n",
    "    raw_data = []\n",
    "    for make, records in data.items():\n",
    "        raw_data.extend(records)\n",
    "    raw_data = pd.DataFrame(raw_data)\n",
    "    raw_data.to_csv('./data/raw_data.csv', index=False)\n",
    "    return raw_data"
   ]
  },
  {
   "cell_type": "code",
   "execution_count": 6,
   "id": "757c5905",
   "metadata": {
    "ExecuteTime": {
     "end_time": "2025-06-08T19:43:18.242815Z",
     "start_time": "2025-06-08T19:43:18.102716Z"
    }
   },
   "outputs": [],
   "source": [
    "raw_data = load_and_clean_data()"
   ]
  },
  {
   "cell_type": "markdown",
   "id": "ad54c2b8",
   "metadata": {},
   "source": [
    "### First look at the dataset"
   ]
  },
  {
   "cell_type": "code",
   "execution_count": null,
   "id": "19defa46150f53a6",
   "metadata": {
    "ExecuteTime": {
     "end_time": "2025-06-08T19:43:18.245337Z",
     "start_time": "2025-06-06T18:51:48.872015Z"
    }
   },
   "outputs": [],
   "source": [
    "raw_data.head()"
   ]
  },
  {
   "cell_type": "code",
   "execution_count": 8,
   "id": "e75171f354b785a0",
   "metadata": {
    "ExecuteTime": {
     "end_time": "2025-06-08T19:43:18.262217Z",
     "start_time": "2025-06-06T18:51:48.919343Z"
    }
   },
   "outputs": [
    {
     "name": "stdout",
     "output_type": "stream",
     "text": [
      "<class 'pandas.core.frame.DataFrame'>\n",
      "RangeIndex: 4005 entries, 0 to 4004\n",
      "Data columns (total 48 columns):\n",
      " #   Column                                                       Non-Null Count  Dtype \n",
      "---  ------                                                       --------------  ----- \n",
      " 0   Vehicle condition                                            4005 non-null   object\n",
      " 1   Category                                                     4005 non-null   object\n",
      " 2   Vehicle Number                                               2320 non-null   object\n",
      " 3   Availability                                                 1665 non-null   object\n",
      " 4   Origin                                                       2777 non-null   object\n",
      " 5   Mileage                                                      4005 non-null   object\n",
      " 6   Cubic Capacity                                               3996 non-null   object\n",
      " 7   Power                                                        4005 non-null   object\n",
      " 8   Drive type                                                   4005 non-null   object\n",
      " 9   Fuel                                                         4005 non-null   object\n",
      " 10  Number of Seats                                              3942 non-null   object\n",
      " 11  Door Count                                                   3995 non-null   object\n",
      " 12  Transmission                                                 4001 non-null   object\n",
      " 13  Emission Class                                               3817 non-null   object\n",
      " 14  Emissions Sticker                                            3743 non-null   object\n",
      " 15  First Registration                                           4005 non-null   object\n",
      " 16  HU                                                           3689 non-null   object\n",
      " 17  Climatisation                                                3991 non-null   object\n",
      " 18  Parking sensors                                              3906 non-null   object\n",
      " 19  Airbags                                                      3897 non-null   object\n",
      " 20  Colour (Manufacturer)                                        3701 non-null   object\n",
      " 21  Colour                                                       3981 non-null   object\n",
      " 22  Interior Design                                              3979 non-null   object\n",
      " 23  price                                                        4005 non-null   object\n",
      " 24  Make                                                         4005 non-null   object\n",
      " 25  Energy consumption (comb.)2                                  1995 non-null   object\n",
      " 26  CO₂ emissions (comb.)2                                       1995 non-null   object\n",
      " 27  Fuel consumption2                                            1936 non-null   object\n",
      " 28  Number of Vehicle Owners                                     2989 non-null   object\n",
      " 29  Trailer load braked                                          1374 non-null   object\n",
      " 30  Trailer load unbraked                                        1360 non-null   object\n",
      " 31  Weight                                                       1844 non-null   object\n",
      " 32  Cylinders                                                    2468 non-null   object\n",
      " 33  Tank capacity                                                1387 non-null   object\n",
      " 34  Date of last service (date)                                  412 non-null    object\n",
      " 35  Last service (mileage)                                       425 non-null    object\n",
      " 36  CO₂ class                                                    351 non-null    object\n",
      " 37  Energy costs for 15,000 km annual mileage2                   184 non-null    object\n",
      " 38  Fuel price                                                   148 non-null    object\n",
      " 39  Vehicle tax                                                  162 non-null    object\n",
      " 40  Construction Year                                            379 non-null    object\n",
      " 41  Support load                                                 97 non-null     object\n",
      " 42  Possible CO₂ costs over the next 10 years (15,000 km/year)2  147 non-null    object\n",
      " 43  Commercial, Export/Import                                    24 non-null     object\n",
      " 44  Sliding door                                                 151 non-null    object\n",
      " 45  Battery capacity (in kWh)                                    3 non-null      object\n",
      " 46  Battery                                                      1 non-null      object\n",
      " 47  Other energy source                                          1 non-null      object\n",
      "dtypes: object(48)\n",
      "memory usage: 1.5+ MB\n"
     ]
    }
   ],
   "source": [
    "raw_data.info()"
   ]
  },
  {
   "cell_type": "code",
   "execution_count": null,
   "id": "246857936e1192b2",
   "metadata": {
    "ExecuteTime": {
     "end_time": "2025-06-08T19:43:18.267388Z",
     "start_time": "2025-06-06T18:51:48.947742Z"
    }
   },
   "outputs": [],
   "source": [
    "raw_data.describe()"
   ]
  },
  {
   "cell_type": "code",
   "execution_count": 5,
   "id": "720c82775e0bcb02",
   "metadata": {
    "ExecuteTime": {
     "end_time": "2025-06-08T19:43:18.274311Z",
     "start_time": "2025-06-06T18:51:49.002841Z"
    }
   },
   "outputs": [],
   "source": [
    "# Clean Numeric Columns\n",
    "def clean_numeric_column(column, remove_text=True):\n",
    "    if remove_text:\n",
    "        return column.str.replace(r'[^\\d.]', '', regex=True).astype(float)\n",
    "    return column"
   ]
  },
  {
   "cell_type": "code",
   "execution_count": 6,
   "id": "a48d3b5ca14afb19",
   "metadata": {
    "ExecuteTime": {
     "end_time": "2025-06-08T19:43:18.275401Z",
     "start_time": "2025-06-06T18:51:49.028125Z"
    }
   },
   "outputs": [],
   "source": [
    "# Convert  columns to numeric\n",
    "raw_data[\"price\"] = clean_numeric_column(raw_data[\"price\"])\n",
    "raw_data[\"Mileage\"] = clean_numeric_column(raw_data[\"Mileage\"])\n",
    "raw_data[\"Cubic Capacity\"] = clean_numeric_column(raw_data[\"Cubic Capacity\"])\n",
    "raw_data[\"Power\"] = raw_data[\"Power\"].str.extract(r\"(\\d+)\", expand=False).astype(float)"
   ]
  },
  {
   "cell_type": "code",
   "execution_count": 7,
   "id": "47ce0d4a",
   "metadata": {},
   "outputs": [],
   "source": [
    "raw_data.to_csv('./data/raw_data_cast.csv', index=False)"
   ]
  },
  {
   "cell_type": "code",
   "execution_count": null,
   "id": "c761bc0c02390dd4",
   "metadata": {
    "ExecuteTime": {
     "end_time": "2025-06-08T19:43:18.279714Z",
     "start_time": "2025-06-06T18:51:49.046448Z"
    }
   },
   "outputs": [],
   "source": [
    "# Calculate the proportion of missing values\n",
    "missing_values = (raw_data.isnull().sum() / len(raw_data)) * 100\n",
    "missing_values = missing_values[missing_values > 0]  # get columns with missing values\n",
    "\n",
    "# Plot the missing values\n",
    "plt.figure(figsize=(12, 8))\n",
    "sns.barplot(\n",
    "    x=missing_values.values,\n",
    "    y=missing_values.index,\n",
    "    palette=\"viridis\",\n",
    "    hue=missing_values.values,\n",
    ")\n",
    "plt.title(\"Proportion of Missing Values by Column\")\n",
    "plt.xlabel(\"Percentage of Missing Values\")\n",
    "plt.ylabel(\"Columns\")\n",
    "plt.show()"
   ]
  },
  {
   "cell_type": "code",
   "execution_count": null,
   "id": "61364ab5fbe1e1ea",
   "metadata": {
    "ExecuteTime": {
     "end_time": "2025-06-08T19:43:18.280222Z",
     "start_time": "2025-06-06T18:51:49.243971Z"
    }
   },
   "outputs": [],
   "source": [
    "# Drop columns with more than 50% missing values\n",
    "threshold = 50\n",
    "columns_to_drop = missing_values[missing_values > threshold].index.tolist()\n",
    "print(f\"Columns with more than {threshold}% missing values: {columns_to_drop}\")\n",
    "\n",
    "raw_data_cleaned = raw_data.drop(columns=columns_to_drop, axis=1)\n",
    "\n",
    "print(\"\\nCleaned Data Information:\")\n",
    "raw_data_cleaned.info()"
   ]
  },
  {
   "cell_type": "code",
   "execution_count": null,
   "id": "48e4ac4341713d42",
   "metadata": {
    "ExecuteTime": {
     "end_time": "2025-06-08T19:43:18.280387Z",
     "start_time": "2025-06-06T18:51:49.259730Z"
    }
   },
   "outputs": [],
   "source": [
    "# Get unique values for categorical columns\n",
    "categorical_columns = raw_data_cleaned.select_dtypes(include=\"object\").columns\n",
    "for col in categorical_columns:\n",
    "    unique_values = raw_data_cleaned[col].nunique()\n",
    "    print(f\"{col}: {unique_values} unique values\")\n",
    "\n",
    "# PLot\n",
    "plt.figure(figsize=(16, 8))\n",
    "for i, col in enumerate([\"Make\", \"Fuel\", \"Transmission\", \"Drive type\"], start=1):\n",
    "    plt.subplot(2, 2, i)\n",
    "    sns.countplot(\n",
    "        y=raw_data_cleaned[col],\n",
    "        order=raw_data_cleaned[col].value_counts().index,\n",
    "        palette=\"viridis\",\n",
    "        hue=raw_data_cleaned[col],\n",
    "    )\n",
    "    plt.title(f\"Distribution of {col}\")\n",
    "    plt.xlabel(\"Count\")\n",
    "    plt.ylabel(col)\n",
    "\n",
    "plt.tight_layout()\n",
    "plt.show()"
   ]
  },
  {
   "cell_type": "code",
   "execution_count": null,
   "id": "1f776d55d44cfdf6",
   "metadata": {
    "ExecuteTime": {
     "end_time": "2025-06-08T19:43:18.285687Z",
     "start_time": "2025-06-06T18:51:49.422492Z"
    }
   },
   "outputs": [],
   "source": [
    "# Missing value imputation for important columns\n",
    "raw_data_cleaned[\"Cubic Capacity\"].fillna(\n",
    "    raw_data_cleaned[\"Cubic Capacity\"].median(), inplace=True\n",
    ")\n",
    "raw_data_cleaned[\"Power\"].fillna(raw_data_cleaned[\"Power\"].median(), inplace=True)\n",
    "raw_data_cleaned[\"Number of Seats\"].fillna(\n",
    "    raw_data_cleaned[\"Number of Seats\"].mode()[0], inplace=True\n",
    ")\n",
    "\n",
    "# Drop rows with missing values in critical columns (e.g., 'price', 'Mileage')\n",
    "raw_data_cleaned = raw_data_cleaned.dropna(subset=[\"price\", \"Mileage\"])\n",
    "\n",
    "# Confirm that missing values are handled\n",
    "print(\"\\nRemaining Missing Values:\")\n",
    "print(raw_data_cleaned.isnull().sum())"
   ]
  },
  {
   "cell_type": "code",
   "execution_count": null,
   "id": "c7826c20ba780648",
   "metadata": {
    "ExecuteTime": {
     "end_time": "2025-06-08T19:43:18.286951Z",
     "start_time": "2025-06-06T18:51:49.438601Z"
    }
   },
   "outputs": [],
   "source": [
    "# Boxplots to identify outliers\n",
    "numeric_columns = [\"price\", \"Mileage\", \"Cubic Capacity\", \"Power\"]\n",
    "plt.figure(figsize=(16, 8))\n",
    "for i, col in enumerate(numeric_columns, start=1):\n",
    "    plt.subplot(2, 2, i)\n",
    "    sns.boxplot(data=raw_data_cleaned, x=col)\n",
    "    plt.title(f\"Boxplot of {col}\")\n",
    "    plt.xlabel(col)\n",
    "\n",
    "plt.tight_layout()\n",
    "plt.show()\n",
    "\n",
    "# Handle outliers using the IQR method\n",
    "for col in [\"price\", \"Mileage\"]:\n",
    "    Q1 = raw_data_cleaned[col].quantile(0.25)\n",
    "    Q3 = raw_data_cleaned[col].quantile(0.75)\n",
    "    IQR = Q3 - Q1\n",
    "    lower_bound = Q1 - 1.5 * IQR\n",
    "    upper_bound = Q3 + 1.5 * IQR\n",
    "    raw_data_cleaned = raw_data_cleaned[\n",
    "        (raw_data_cleaned[col] >= lower_bound) & (raw_data_cleaned[col] <= upper_bound)\n",
    "        ]\n",
    "\n",
    "print(\"\\nDataset after cleaning:\")\n",
    "raw_data_cleaned.info()"
   ]
  },
  {
   "cell_type": "code",
   "execution_count": 13,
   "id": "2ab321706ec9bfba",
   "metadata": {
    "ExecuteTime": {
     "end_time": "2025-06-08T19:43:18.287298Z",
     "start_time": "2025-06-06T18:51:49.560367Z"
    }
   },
   "outputs": [],
   "source": [
    "# Save the cleaned dataset to a CSV file\n",
    "raw_data_cleaned.to_csv('./data/cleaned_data.csv', index=False)"
   ]
  },
  {
   "cell_type": "markdown",
   "id": "d6bd976b9762a60e",
   "metadata": {},
   "source": [
    "## Univariate Analysis"
   ]
  },
  {
   "cell_type": "code",
   "execution_count": null,
   "id": "aafe95b8887372f7",
   "metadata": {
    "ExecuteTime": {
     "end_time": "2025-06-08T19:43:18.287490Z",
     "start_time": "2025-06-06T18:51:49.597227Z"
    }
   },
   "outputs": [],
   "source": [
    "# Univariate Analysis for Key Numeric Features\n",
    "plt.figure(figsize=(16, 8))\n",
    "\n",
    "# Price Distribution\n",
    "plt.subplot(2, 2, 1)\n",
    "sns.histplot(raw_data_cleaned['price'], bins=50, kde=True, color='blue')\n",
    "plt.title(\"Distribution of Price\")\n",
    "plt.xlabel(\"Price (€)\")\n",
    "plt.ylabel(\"Frequency\")\n",
    "\n",
    "# Mileage Distribution\n",
    "plt.subplot(2, 2, 2)\n",
    "sns.histplot(raw_data_cleaned['Mileage'], bins=50, kde=True, color='orange')\n",
    "plt.title(\"Distribution of Mileage\")\n",
    "plt.xlabel(\"Mileage (km)\")\n",
    "plt.ylabel(\"Frequency\")\n",
    "\n",
    "# Power Distribution\n",
    "plt.subplot(2, 2, 3)\n",
    "sns.histplot(raw_data_cleaned['Power'], bins=50, kde=True, color='green')\n",
    "plt.title(\"Distribution of Power\")\n",
    "plt.xlabel(\"Power (kW)\")\n",
    "plt.ylabel(\"Frequency\")\n",
    "\n",
    "# Cubic Capacity Distribution\n",
    "plt.subplot(2, 2, 4)\n",
    "sns.histplot(raw_data_cleaned['Cubic Capacity'], bins=50, kde=True, color='purple')\n",
    "plt.title(\"Distribution of Cubic Capacity\")\n",
    "plt.xlabel(\"Cubic Capacity (cc)\")\n",
    "plt.ylabel(\"Frequency\")\n",
    "\n",
    "plt.tight_layout()\n",
    "plt.show()\n"
   ]
  },
  {
   "cell_type": "code",
   "execution_count": null,
   "id": "1396976d46acff33",
   "metadata": {
    "ExecuteTime": {
     "end_time": "2025-06-08T19:43:18.289845Z",
     "start_time": "2025-06-06T18:51:49.846023Z"
    }
   },
   "outputs": [],
   "source": [
    "# Univariate Analysis for Key Categorical Features\n",
    "plt.figure(figsize=(16, 8))\n",
    "\n",
    "# Make Distribution\n",
    "plt.subplot(2, 2, 1)\n",
    "sns.countplot(raw_data_cleaned['Make'], order=raw_data_cleaned['Make'].value_counts().index)\n",
    "plt.title(\"Distribution of Car Makes\")\n",
    "plt.xlabel(\"Make\")\n",
    "plt.ylabel(\"Count\")\n",
    "plt.xticks(rotation=45)\n",
    "\n",
    "# Fuel Distribution\n",
    "plt.subplot(2, 2, 2)\n",
    "sns.countplot(raw_data_cleaned['Fuel'], order=raw_data_cleaned['Fuel'].value_counts().index)\n",
    "plt.title(\"Distribution of Fuel Types\")\n",
    "plt.xlabel(\"Fuel Type\")\n",
    "plt.ylabel(\"Count\")\n",
    "plt.xticks(rotation=45)\n",
    "\n",
    "# Transmission Distribution\n",
    "plt.subplot(2, 2, 3)\n",
    "sns.countplot(raw_data_cleaned['Transmission'], order=raw_data_cleaned['Transmission'].value_counts().index)\n",
    "plt.title(\"Distribution of Transmission Types\")\n",
    "plt.xlabel(\"Transmission\")\n",
    "plt.ylabel(\"Count\")\n",
    "plt.xticks(rotation=45)\n",
    "\n",
    "# Drive Type Distribution\n",
    "plt.subplot(2, 2, 4)\n",
    "sns.countplot(raw_data_cleaned['Drive type'], order=raw_data_cleaned['Drive type'].value_counts().index)\n",
    "plt.title(\"Distribution of Drive Types\")\n",
    "plt.xlabel(\"Drive Type\")\n",
    "plt.ylabel(\"Count\")\n",
    "plt.xticks(rotation=45)\n",
    "\n",
    "plt.tight_layout()\n",
    "plt.show()"
   ]
  },
  {
   "cell_type": "markdown",
   "id": "e81ad25d59bcff7c",
   "metadata": {},
   "source": [
    "## Conclusions from Univariate Analysis\n",
    "1. Price\n",
    "    * The price distribution is normal, with most vehicles priced around €20,000.\n",
    "    * A small number of luxury or high-end vehicles create outliers at the higher end.\n",
    "\n",
    "2. Mileage\n",
    "    * Mileage follows a somewhat bell-shaped curve, with most vehicles between 50,000 km and 140,000 km.\n",
    "    * Few vehicles have extremely low or high mileage, but they may represent unique cases (e.g., new or heavily used vehicles).\n",
    "\n",
    "3. Power\n",
    "    * The power distribution shows a clustering around 100–200 kW, which is common for German vehicles.\n",
    "    * Vehicles with very high power are rare, likely reflecting high-performance or specialty cars.\n",
    "\n",
    "4. Cubic Capacity\n",
    "    * The cubic capacity distribution peaks around 1,500–2,000 cc, which aligns with typical engine sizes for German cars.\n",
    "    * Larger engines (e.g., above 3,000 cc) are less frequent and likely associated with premium or performance cars."
   ]
  },
  {
   "cell_type": "markdown",
   "id": "a83047af9ad188a9",
   "metadata": {},
   "source": [
    "## Bivariate Analysis\n",
    "### Purpose:\n",
    "   To explore relationships between pairs of variables, such as:\n",
    "\n",
    "* price vs. Mileage\n",
    "* price vs. Power\n",
    "* price vs. categorical variables like Make or Fuel"
   ]
  },
  {
   "cell_type": "code",
   "execution_count": null,
   "id": "2de68ccc81e8daf7",
   "metadata": {
    "ExecuteTime": {
     "end_time": "2025-06-08T19:43:18.291109Z",
     "start_time": "2025-06-06T18:51:49.974557Z"
    }
   },
   "outputs": [],
   "source": [
    "# Bivariate Analysis: Numeric vs. Numeric\n",
    "plt.figure(figsize=(16, 8))\n",
    "\n",
    "# Price vs. Mileage\n",
    "plt.subplot(2, 2, 1)\n",
    "sns.scatterplot(data=raw_data_cleaned, x='Mileage', y='price', alpha=0.6, color='blue')\n",
    "plt.title(\"Price vs. Mileage\")\n",
    "plt.xlabel(\"Mileage (km)\")\n",
    "plt.ylabel(\"Price (€)\")\n",
    "\n",
    "# Price vs. Power\n",
    "plt.subplot(2, 2, 2)\n",
    "sns.scatterplot(data=raw_data_cleaned, x='Power', y='price', alpha=0.6, color='orange')\n",
    "plt.title(\"Price vs. Power\")\n",
    "plt.xlabel(\"Power (kW)\")\n",
    "plt.ylabel(\"Price (€)\")\n",
    "\n",
    "# Price vs. Cubic Capacity\n",
    "plt.subplot(2, 2, 3)\n",
    "sns.scatterplot(data=raw_data_cleaned, x='Cubic Capacity', y='price', alpha=0.6, color='green')\n",
    "plt.title(\"Price vs. Cubic Capacity\")\n",
    "plt.xlabel(\"Cubic Capacity (cc)\")\n",
    "plt.ylabel(\"Price (€)\")\n",
    "\n",
    "plt.tight_layout()\n",
    "plt.show()\n",
    "\n",
    "# Price vs. Categorical Variables\n",
    "plt.figure(figsize=(16, 8))\n",
    "\n",
    "# Price by Make\n",
    "plt.subplot(2, 2, 1)\n",
    "sns.boxplot(data=raw_data_cleaned, x='price', y='Make', palette=\"viridis\", showfliers=False, hue='Make')\n",
    "plt.title(\"Price by Make\")\n",
    "plt.xlabel(\"Price (€)\")\n",
    "plt.ylabel(\"Make\")\n",
    "\n",
    "# Price by Fuel\n",
    "plt.subplot(2, 2, 2)\n",
    "sns.boxplot(data=raw_data_cleaned, x='price', y='Fuel', palette=\"magma\", showfliers=False, hue='Fuel')\n",
    "plt.title(\"Price by Fuel Type\")\n",
    "plt.xlabel(\"Price (€)\")\n",
    "plt.ylabel(\"Fuel Type\")\n",
    "\n",
    "# Price by Transmission\n",
    "plt.subplot(2, 2, 3)\n",
    "sns.boxplot(data=raw_data_cleaned, x='price', y='Transmission', palette=\"plasma\", showfliers=False, hue='Transmission')\n",
    "plt.title(\"Price by Transmission Type\")\n",
    "plt.xlabel(\"Price (€)\")\n",
    "plt.ylabel(\"Transmission\")\n",
    "\n",
    "plt.tight_layout()\n",
    "plt.show()\n"
   ]
  },
  {
   "cell_type": "markdown",
   "id": "4205f92435b7089a",
   "metadata": {},
   "source": [
    "## Correlation Analysis\n",
    "### Purpose:\n",
    "To identify linear relationships between numeric variables and the target variable (price)."
   ]
  },
  {
   "cell_type": "code",
   "execution_count": null,
   "id": "86f14330ba34bebd",
   "metadata": {
    "ExecuteTime": {
     "end_time": "2025-06-08T19:43:18.291977Z",
     "start_time": "2025-06-06T18:51:50.242257Z"
    }
   },
   "outputs": [],
   "source": [
    "# Correlation Matrix\n",
    "numeric_cols = ['price', 'Mileage', 'Cubic Capacity', 'Power']\n",
    "correlation_matrix = raw_data_cleaned[numeric_cols].corr()\n",
    "\n",
    "# Heatmap of Correlations\n",
    "plt.figure(figsize=(8, 6))\n",
    "sns.heatmap(correlation_matrix, annot=True, cmap='coolwarm', fmt=\".2f\")\n",
    "plt.title(\"Correlation Matrix\")\n",
    "plt.show()\n"
   ]
  },
  {
   "cell_type": "markdown",
   "id": "1cd10e40630f8448",
   "metadata": {},
   "source": [
    "## Multivariate Analysis\n",
    "### Purpose:\n",
    "Explore how multiple variables interact, e.g., the effect of Make and Fuel type on price."
   ]
  },
  {
   "cell_type": "code",
   "execution_count": null,
   "id": "9ea8956b72b6d938",
   "metadata": {
    "ExecuteTime": {
     "end_time": "2025-06-08T19:43:18.292304Z",
     "start_time": "2025-06-06T18:51:50.291740Z"
    }
   },
   "outputs": [],
   "source": [
    "# Pairplot for selected features\n",
    "selected_features = ['price', 'Mileage', 'Power', 'Cubic Capacity']\n",
    "sns.pairplot(raw_data_cleaned[selected_features], diag_kind='kde', corner=True)\n",
    "plt.show()"
   ]
  },
  {
   "cell_type": "code",
   "execution_count": null,
   "id": "133ae5fa9f0712db",
   "metadata": {
    "ExecuteTime": {
     "end_time": "2025-06-08T19:43:18.292695Z",
     "start_time": "2025-06-06T18:51:50.625264Z"
    }
   },
   "outputs": [],
   "source": [
    "# Boxplot with two categorical variables\n",
    "plt.figure(figsize=(12, 8))\n",
    "sns.boxplot(data=raw_data_cleaned, x='Fuel', y='price', hue='Transmission', palette='viridis', showfliers=False)\n",
    "plt.title(\"Price by Fuel Type and Transmission\")\n",
    "plt.xlabel(\"Fuel Type\")\n",
    "plt.ylabel(\"Price (€)\")\n",
    "plt.legend(title=\"Transmission\")\n",
    "plt.show()"
   ]
  },
  {
   "cell_type": "markdown",
   "id": "736c5d91a412ed15",
   "metadata": {},
   "source": [
    "## Conclusions\n",
    "1. Bivariate Analysis\n",
    "\n",
    "* Price vs. Mileage:\n",
    "    * Clear negative relationship: cars with higher mileage generally have lower prices.\n",
    "    * A few outliers exist (e.g., low-price cars with very low mileage).\n",
    "* Price vs. Power:\n",
    "    * Positive relationship: cars with higher power (kW) tend to have higher prices.\n",
    "    * The trend weakens for vehicles with extremely high power.\n",
    "* Price vs. Cubic Capacity:\n",
    "    * Moderate positive relationship: larger engines generally correlate with higher prices.\n",
    "    * A notable clustering around common cubic capacities (e.g., ~2,000 cc).\n",
    "\n",
    "2. Price by Categorical Features\n",
    "\n",
    "* Price by Make:\n",
    "    * Luxury brands like Audi and BMW have higher median prices compared to Skoda and Volkswagen.\n",
    "    * Price variance is highest for Audi, reflecting its diverse product range.\n",
    "* Price by Fuel Type:\n",
    "    * Diesel cars tend to have slightly higher prices compared to petrol cars.\n",
    "    * Alternative fuels (e.g., hybrid) appear less frequently but with higher prices.\n",
    "* Price by Transmission:\n",
    "    * Automatic vehicles have higher median prices compared to manual ones.\n",
    "    * Likely reflects demand and technology differences.\n",
    "\n",
    "3. Correlation Analysis\n",
    "\n",
    "* Strongest Correlations:\n",
    "    * Power has a moderately strong positive correlation with price (~0.6).\n",
    "    * Mileage has a moderate negative correlation with price (~-0.5).\n",
    "    * Cubic Capacity shows a weaker positive correlation with price (~0.5).\n",
    "\n",
    "* Key Insights:\n",
    "    * Engine-related metrics (Power, Cubic Capacity) and Mileage are important predictors of price.\n",
    "    * Multicollinearity among numeric variables appears limited, which is ideal for modeling."
   ]
  },
  {
   "cell_type": "markdown",
   "id": "39db2e5660c057b0",
   "metadata": {},
   "source": [
    "## Feature Engineering\n",
    "\n",
    "* Derived Features:\n",
    "    * Vehicle Age: Extracted from the First Registration column.\n",
    "    * Mileage per Year: Normalized mileage based on vehicle age.\n",
    "\n",
    "* Encoded Features:\n",
    "    * Categorical columns (Make, Fuel, Transmission, Drive type) were one-hot encoded.\n",
    "    * Other categorical columns containing a high percentage of distinct values which are not relevant for the analysis (Interior Color, for example, we dropped)\n",
    "\n",
    "* Transformed Features:\n",
    "    * Log transformations applied to price (Log Price) and Mileage (Log Mileage) to handle skewness.\n",
    "\n",
    "* Standardized Features:\n",
    "    * Key numeric features (Mileage, Power, Cubic Capacity, Vehicle Age, Mileage per Year) were standardized to ensure consistent scaling."
   ]
  },
  {
   "cell_type": "code",
   "execution_count": null,
   "id": "943f9d79fea376d7",
   "metadata": {
    "ExecuteTime": {
     "end_time": "2025-06-08T19:43:18.293205Z",
     "start_time": "2025-06-06T18:51:50.692997Z"
    }
   },
   "outputs": [],
   "source": [
    "# Derive Features\n",
    "current_year = datetime.now().year\n",
    "raw_data_cleaned['First Registration Year'] = raw_data_cleaned['First Registration'].str.extract(r'(\\d{4})').astype(float)\n",
    "raw_data_cleaned['Vehicle Age'] = current_year - raw_data_cleaned['First Registration Year']\n",
    "raw_data_cleaned['Mileage per Year'] = raw_data_cleaned['Mileage'] / raw_data_cleaned['Vehicle Age']\n",
    "\n",
    "# Encoding Categorical Variables\n",
    "categorical_columns_to_encode = ['Vehicle condition', 'Make', 'Category', 'Door Count', 'Emission Class',\n",
    "                                 'Climatisation', 'Parking sensors', 'Airbags', 'Colour', 'Fuel', 'Transmission',\n",
    "                                 'Drive type']\n",
    "\n",
    "# Perform one-hot encoding\n",
    "encoder = OneHotEncoder(sparse_output=False)\n",
    "encoded_columns = pd.DataFrame(\n",
    "    encoder.fit_transform(raw_data_cleaned[categorical_columns_to_encode]),\n",
    "    columns=encoder.get_feature_names_out(categorical_columns_to_encode),\n",
    "    index=raw_data_cleaned.index\n",
    ")\n",
    "\n",
    "# Drop all remaining categorical columns\n",
    "categorical_columns_to_drop = raw_data_cleaned.select_dtypes(include='object').columns\n",
    "raw_data_encoded = pd.concat([raw_data_cleaned.drop(columns=categorical_columns_to_drop), encoded_columns], axis=1)\n",
    "\n",
    "# Step 3: Handle Skewness\n",
    "raw_data_encoded['Log Price'] = np.log1p(raw_data_encoded['price'])\n",
    "raw_data_encoded['Log Mileage'] = np.log1p(raw_data_encoded['Mileage'])\n",
    "\n",
    "# Step 4: Standardization\n",
    "numeric_features = ['Mileage', 'Power', 'Cubic Capacity', 'Vehicle Age', 'Mileage per Year']\n",
    "scaler = StandardScaler()\n",
    "raw_data_encoded[numeric_features] = scaler.fit_transform(raw_data_encoded[numeric_features])\n",
    "\n",
    "print(\"Feature Engineering Summary:\")\n",
    "print(f\"- Encoded Features: {encoder.get_feature_names_out(categorical_columns_to_encode).tolist()}\")\n",
    "print(f\"- Dropped Columns: {categorical_columns_to_drop.tolist()}\")\n",
    "print(\"Transformed Dataset:\")\n",
    "print(raw_data_encoded.info())\n"
   ]
  },
  {
   "cell_type": "code",
   "execution_count": 21,
   "id": "e1b0fb186b09888c",
   "metadata": {
    "ExecuteTime": {
     "end_time": "2025-06-08T19:43:18.293649Z",
     "start_time": "2025-06-06T18:51:50.727751Z"
    }
   },
   "outputs": [],
   "source": [
    "# Save the final dataset to a CSV file\n",
    "raw_data_encoded.to_csv('./data/processed_data.csv', index=False)"
   ]
  }
 ],
 "metadata": {
  "kernelspec": {
   "display_name": ".venv",
   "language": "python",
   "name": "python3"
  },
  "language_info": {
   "codemirror_mode": {
    "name": "ipython",
    "version": 3
   },
   "file_extension": ".py",
   "mimetype": "text/x-python",
   "name": "python",
   "nbconvert_exporter": "python",
   "pygments_lexer": "ipython3",
   "version": "3.13.2"
  }
 },
 "nbformat": 5,
 "nbformat_minor": 9
}
