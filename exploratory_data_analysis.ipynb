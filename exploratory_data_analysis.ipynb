{
 "cells": [
  {
   "cell_type": "code",
   "execution_count": 1,
   "id": "880dfc5e4adc4409",
   "metadata": {
    "ExecuteTime": {
     "end_time": "2025-06-06T18:51:48.794516Z",
     "start_time": "2025-06-06T18:51:48.705182Z"
    }
   },
   "outputs": [],
   "source": [
    "import numpy as np\n",
    "import pandas as pd\n",
    "import matplotlib.pyplot as plt\n",
    "import seaborn as sns\n",
    "from sklearn.preprocessing import OneHotEncoder, StandardScaler\n",
    "from datetime import datetime"
   ]
  },
  {
   "cell_type": "code",
   "execution_count": 3,
   "id": "74f9cb46511c036",
   "metadata": {
    "ExecuteTime": {
     "end_time": "2025-06-06T18:51:48.869173Z",
     "start_time": "2025-06-06T18:51:48.849762Z"
    }
   },
   "outputs": [],
   "source": [
    "# Load the data\n",
    "with open('./data/technical_data.pkl', 'rb') as f:\n",
    "    data = pd.read_pickle(f)\n",
    "\n",
    "# Add 'Make' column for each brand\n",
    "for make, records in data.items():\n",
    "    for record in records:\n",
    "        record['Make'] = make\n",
    "\n",
    "# Combine all records into a single DataFrame\n",
    "data_df = []\n",
    "for make, records in data.items():\n",
    "    data_df.extend(records)\n",
    "data_df = pd.DataFrame(data_df)"
   ]
  },
  {
   "cell_type": "code",
   "execution_count": 4,
   "id": "757c5905",
   "metadata": {},
   "outputs": [],
   "source": [
    "data_df.to_csv('./data/raw_data.csv', index=False)"
   ]
  },
  {
   "cell_type": "code",
   "execution_count": null,
   "id": "19defa46150f53a6",
   "metadata": {
    "ExecuteTime": {
     "end_time": "2025-06-06T18:51:48.881934Z",
     "start_time": "2025-06-06T18:51:48.872015Z"
    }
   },
   "outputs": [],
   "source": [
    "data_df.head()"
   ]
  },
  {
   "cell_type": "code",
   "execution_count": null,
   "id": "e75171f354b785a0",
   "metadata": {
    "ExecuteTime": {
     "end_time": "2025-06-06T18:51:48.929329Z",
     "start_time": "2025-06-06T18:51:48.919343Z"
    }
   },
   "outputs": [],
   "source": [
    "data_df.info()"
   ]
  },
  {
   "cell_type": "code",
   "execution_count": null,
   "id": "246857936e1192b2",
   "metadata": {
    "ExecuteTime": {
     "end_time": "2025-06-06T18:51:48.970228Z",
     "start_time": "2025-06-06T18:51:48.947742Z"
    }
   },
   "outputs": [],
   "source": [
    "data_df.describe()"
   ]
  },
  {
   "cell_type": "code",
   "execution_count": 5,
   "id": "720c82775e0bcb02",
   "metadata": {
    "ExecuteTime": {
     "end_time": "2025-06-06T18:51:49.004270Z",
     "start_time": "2025-06-06T18:51:49.002841Z"
    }
   },
   "outputs": [],
   "source": [
    "# Clean Numeric Columns\n",
    "def clean_numeric_column(column, remove_text=True):\n",
    "    if remove_text:\n",
    "        return column.str.replace(r'[^\\d.]', '', regex=True).astype(float)\n",
    "    return column"
   ]
  },
  {
   "cell_type": "code",
   "execution_count": 6,
   "id": "a48d3b5ca14afb19",
   "metadata": {
    "ExecuteTime": {
     "end_time": "2025-06-06T18:51:49.036434Z",
     "start_time": "2025-06-06T18:51:49.028125Z"
    }
   },
   "outputs": [],
   "source": [
    "# Convert  columns to numeric\n",
    "data_df[\"price\"] = clean_numeric_column(data_df[\"price\"])\n",
    "data_df[\"Mileage\"] = clean_numeric_column(data_df[\"Mileage\"])\n",
    "data_df[\"Cubic Capacity\"] = clean_numeric_column(data_df[\"Cubic Capacity\"])\n",
    "data_df[\"Power\"] = data_df[\"Power\"].str.extract(r\"(\\d+)\", expand=False).astype(float)"
   ]
  },
  {
   "cell_type": "code",
   "execution_count": 7,
   "id": "47ce0d4a",
   "metadata": {},
   "outputs": [],
   "source": [
    "data_df.to_csv('./data/raw_data_cast.csv', index=False)"
   ]
  },
  {
   "cell_type": "code",
   "execution_count": null,
   "id": "c761bc0c02390dd4",
   "metadata": {
    "ExecuteTime": {
     "end_time": "2025-06-06T18:51:49.236864Z",
     "start_time": "2025-06-06T18:51:49.046448Z"
    }
   },
   "outputs": [],
   "source": [
    "# Calculate the proportion of missing values\n",
    "missing_values = (data_df.isnull().sum() / len(data_df)) * 100\n",
    "missing_values = missing_values[missing_values > 0]  # get columns with missing values\n",
    "\n",
    "# Plot the missing values\n",
    "plt.figure(figsize=(12, 8))\n",
    "sns.barplot(\n",
    "    x=missing_values.values,\n",
    "    y=missing_values.index,\n",
    "    palette=\"viridis\",\n",
    "    hue=missing_values.values,\n",
    ")\n",
    "plt.title(\"Proportion of Missing Values by Column\")\n",
    "plt.xlabel(\"Percentage of Missing Values\")\n",
    "plt.ylabel(\"Columns\")\n",
    "plt.show()"
   ]
  },
  {
   "cell_type": "code",
   "execution_count": null,
   "id": "61364ab5fbe1e1ea",
   "metadata": {
    "ExecuteTime": {
     "end_time": "2025-06-06T18:51:49.251259Z",
     "start_time": "2025-06-06T18:51:49.243971Z"
    }
   },
   "outputs": [],
   "source": [
    "# Drop columns with more than 50% missing values\n",
    "threshold = 50\n",
    "columns_to_drop = missing_values[missing_values > threshold].index.tolist()\n",
    "print(f\"Columns with more than {threshold}% missing values: {columns_to_drop}\")\n",
    "\n",
    "data_df_cleaned = data_df.drop(columns=columns_to_drop, axis=1)\n",
    "\n",
    "print(\"\\nCleaned Data Information:\")\n",
    "data_df_cleaned.info()"
   ]
  },
  {
   "cell_type": "code",
   "execution_count": null,
   "id": "48e4ac4341713d42",
   "metadata": {
    "ExecuteTime": {
     "end_time": "2025-06-06T18:51:49.413756Z",
     "start_time": "2025-06-06T18:51:49.259730Z"
    }
   },
   "outputs": [],
   "source": [
    "# Get unique values for categorical columns\n",
    "categorical_columns = data_df_cleaned.select_dtypes(include=\"object\").columns\n",
    "for col in categorical_columns:\n",
    "    unique_values = data_df_cleaned[col].nunique()\n",
    "    print(f\"{col}: {unique_values} unique values\")\n",
    "\n",
    "# PLot\n",
    "plt.figure(figsize=(16, 8))\n",
    "for i, col in enumerate([\"Make\", \"Fuel\", \"Transmission\", \"Drive type\"], start=1):\n",
    "    plt.subplot(2, 2, i)\n",
    "    sns.countplot(\n",
    "        y=data_df_cleaned[col],\n",
    "        order=data_df_cleaned[col].value_counts().index,\n",
    "        palette=\"viridis\",\n",
    "        hue=data_df_cleaned[col],\n",
    "    )\n",
    "    plt.title(f\"Distribution of {col}\")\n",
    "    plt.xlabel(\"Count\")\n",
    "    plt.ylabel(col)\n",
    "\n",
    "plt.tight_layout()\n",
    "plt.show()"
   ]
  },
  {
   "cell_type": "code",
   "execution_count": null,
   "id": "1f776d55d44cfdf6",
   "metadata": {
    "ExecuteTime": {
     "end_time": "2025-06-06T18:51:49.430363Z",
     "start_time": "2025-06-06T18:51:49.422492Z"
    }
   },
   "outputs": [],
   "source": [
    "# Missing value imputation for important columns\n",
    "data_df_cleaned[\"Cubic Capacity\"].fillna(\n",
    "    data_df_cleaned[\"Cubic Capacity\"].median(), inplace=True\n",
    ")\n",
    "data_df_cleaned[\"Power\"].fillna(data_df_cleaned[\"Power\"].median(), inplace=True)\n",
    "data_df_cleaned[\"Number of Seats\"].fillna(\n",
    "    data_df_cleaned[\"Number of Seats\"].mode()[0], inplace=True\n",
    ")\n",
    "\n",
    "# Drop rows with missing values in critical columns (e.g., 'price', 'Mileage')\n",
    "data_df_cleaned = data_df_cleaned.dropna(subset=[\"price\", \"Mileage\"])\n",
    "\n",
    "# Confirm that missing values are handled\n",
    "print(\"\\nRemaining Missing Values:\")\n",
    "print(data_df_cleaned.isnull().sum())"
   ]
  },
  {
   "cell_type": "code",
   "execution_count": null,
   "id": "c7826c20ba780648",
   "metadata": {
    "ExecuteTime": {
     "end_time": "2025-06-06T18:51:49.551438Z",
     "start_time": "2025-06-06T18:51:49.438601Z"
    }
   },
   "outputs": [],
   "source": [
    "# Boxplots to identify outliers\n",
    "numeric_columns = [\"price\", \"Mileage\", \"Cubic Capacity\", \"Power\"]\n",
    "plt.figure(figsize=(16, 8))\n",
    "for i, col in enumerate(numeric_columns, start=1):\n",
    "    plt.subplot(2, 2, i)\n",
    "    sns.boxplot(data=data_df_cleaned, x=col)\n",
    "    plt.title(f\"Boxplot of {col}\")\n",
    "    plt.xlabel(col)\n",
    "\n",
    "plt.tight_layout()\n",
    "plt.show()\n",
    "\n",
    "# Handle outliers using the IQR method\n",
    "for col in [\"price\", \"Mileage\"]:\n",
    "    Q1 = data_df_cleaned[col].quantile(0.25)\n",
    "    Q3 = data_df_cleaned[col].quantile(0.75)\n",
    "    IQR = Q3 - Q1\n",
    "    lower_bound = Q1 - 1.5 * IQR\n",
    "    upper_bound = Q3 + 1.5 * IQR\n",
    "    data_df_cleaned = data_df_cleaned[\n",
    "        (data_df_cleaned[col] >= lower_bound) & (data_df_cleaned[col] <= upper_bound)\n",
    "        ]\n",
    "\n",
    "print(\"\\nDataset after cleaning:\")\n",
    "data_df_cleaned.info()"
   ]
  },
  {
   "cell_type": "code",
   "execution_count": 13,
   "id": "2ab321706ec9bfba",
   "metadata": {
    "ExecuteTime": {
     "end_time": "2025-06-06T18:51:49.580135Z",
     "start_time": "2025-06-06T18:51:49.560367Z"
    }
   },
   "outputs": [],
   "source": [
    "# Save the cleaned dataset to a CSV file\n",
    "data_df_cleaned.to_csv('./data/cleaned_data.csv', index=False)"
   ]
  },
  {
   "cell_type": "markdown",
   "id": "d6bd976b9762a60e",
   "metadata": {},
   "source": [
    "## Univariate Analysis"
   ]
  },
  {
   "cell_type": "code",
   "execution_count": null,
   "id": "aafe95b8887372f7",
   "metadata": {
    "ExecuteTime": {
     "end_time": "2025-06-06T18:51:49.837249Z",
     "start_time": "2025-06-06T18:51:49.597227Z"
    }
   },
   "outputs": [],
   "source": [
    "# Univariate Analysis for Key Numeric Features\n",
    "plt.figure(figsize=(16, 8))\n",
    "\n",
    "# Price Distribution\n",
    "plt.subplot(2, 2, 1)\n",
    "sns.histplot(data_df_cleaned['price'], bins=50, kde=True, color='blue')\n",
    "plt.title(\"Distribution of Price\")\n",
    "plt.xlabel(\"Price (€)\")\n",
    "plt.ylabel(\"Frequency\")\n",
    "\n",
    "# Mileage Distribution\n",
    "plt.subplot(2, 2, 2)\n",
    "sns.histplot(data_df_cleaned['Mileage'], bins=50, kde=True, color='orange')\n",
    "plt.title(\"Distribution of Mileage\")\n",
    "plt.xlabel(\"Mileage (km)\")\n",
    "plt.ylabel(\"Frequency\")\n",
    "\n",
    "# Power Distribution\n",
    "plt.subplot(2, 2, 3)\n",
    "sns.histplot(data_df_cleaned['Power'], bins=50, kde=True, color='green')\n",
    "plt.title(\"Distribution of Power\")\n",
    "plt.xlabel(\"Power (kW)\")\n",
    "plt.ylabel(\"Frequency\")\n",
    "\n",
    "# Cubic Capacity Distribution\n",
    "plt.subplot(2, 2, 4)\n",
    "sns.histplot(data_df_cleaned['Cubic Capacity'], bins=50, kde=True, color='purple')\n",
    "plt.title(\"Distribution of Cubic Capacity\")\n",
    "plt.xlabel(\"Cubic Capacity (cc)\")\n",
    "plt.ylabel(\"Frequency\")\n",
    "\n",
    "plt.tight_layout()\n",
    "plt.show()\n"
   ]
  },
  {
   "cell_type": "code",
   "execution_count": null,
   "id": "1396976d46acff33",
   "metadata": {
    "ExecuteTime": {
     "end_time": "2025-06-06T18:51:49.965469Z",
     "start_time": "2025-06-06T18:51:49.846023Z"
    }
   },
   "outputs": [],
   "source": [
    "# Univariate Analysis for Key Categorical Features\n",
    "plt.figure(figsize=(16, 8))\n",
    "\n",
    "# Make Distribution\n",
    "plt.subplot(2, 2, 1)\n",
    "sns.countplot(data_df_cleaned['Make'], order=data_df_cleaned['Make'].value_counts().index)\n",
    "plt.title(\"Distribution of Car Makes\")\n",
    "plt.xlabel(\"Make\")\n",
    "plt.ylabel(\"Count\")\n",
    "plt.xticks(rotation=45)\n",
    "\n",
    "# Fuel Distribution\n",
    "plt.subplot(2, 2, 2)\n",
    "sns.countplot(data_df_cleaned['Fuel'], order=data_df_cleaned['Fuel'].value_counts().index)\n",
    "plt.title(\"Distribution of Fuel Types\")\n",
    "plt.xlabel(\"Fuel Type\")\n",
    "plt.ylabel(\"Count\")\n",
    "plt.xticks(rotation=45)\n",
    "\n",
    "# Transmission Distribution\n",
    "plt.subplot(2, 2, 3)\n",
    "sns.countplot(data_df_cleaned['Transmission'], order=data_df_cleaned['Transmission'].value_counts().index)\n",
    "plt.title(\"Distribution of Transmission Types\")\n",
    "plt.xlabel(\"Transmission\")\n",
    "plt.ylabel(\"Count\")\n",
    "plt.xticks(rotation=45)\n",
    "\n",
    "# Drive Type Distribution\n",
    "plt.subplot(2, 2, 4)\n",
    "sns.countplot(data_df_cleaned['Drive type'], order=data_df_cleaned['Drive type'].value_counts().index)\n",
    "plt.title(\"Distribution of Drive Types\")\n",
    "plt.xlabel(\"Drive Type\")\n",
    "plt.ylabel(\"Count\")\n",
    "plt.xticks(rotation=45)\n",
    "\n",
    "plt.tight_layout()\n",
    "plt.show()"
   ]
  },
  {
   "cell_type": "markdown",
   "id": "e81ad25d59bcff7c",
   "metadata": {},
   "source": [
    "## Conclusions from Univariate Analysis\n",
    "1. Price\n",
    "    * The price distribution is normal, with most vehicles priced around €20,000.\n",
    "    * A small number of luxury or high-end vehicles create outliers at the higher end.\n",
    "\n",
    "2. Mileage\n",
    "    * Mileage follows a somewhat bell-shaped curve, with most vehicles between 50,000 km and 140,000 km.\n",
    "    * Few vehicles have extremely low or high mileage, but they may represent unique cases (e.g., new or heavily used vehicles).\n",
    "\n",
    "3. Power\n",
    "    * The power distribution shows a clustering around 100–200 kW, which is common for German vehicles.\n",
    "    * Vehicles with very high power are rare, likely reflecting high-performance or specialty cars.\n",
    "\n",
    "4. Cubic Capacity\n",
    "    * The cubic capacity distribution peaks around 1,500–2,000 cc, which aligns with typical engine sizes for German cars.\n",
    "    * Larger engines (e.g., above 3,000 cc) are less frequent and likely associated with premium or performance cars."
   ]
  },
  {
   "cell_type": "markdown",
   "id": "a83047af9ad188a9",
   "metadata": {},
   "source": [
    "## Bivariate Analysis\n",
    "### Purpose:\n",
    "   To explore relationships between pairs of variables, such as:\n",
    "\n",
    "* price vs. Mileage\n",
    "* price vs. Power\n",
    "* price vs. categorical variables like Make or Fuel"
   ]
  },
  {
   "cell_type": "code",
   "execution_count": null,
   "id": "2de68ccc81e8daf7",
   "metadata": {
    "ExecuteTime": {
     "end_time": "2025-06-06T18:51:50.233461Z",
     "start_time": "2025-06-06T18:51:49.974557Z"
    }
   },
   "outputs": [],
   "source": [
    "# Bivariate Analysis: Numeric vs. Numeric\n",
    "plt.figure(figsize=(16, 8))\n",
    "\n",
    "# Price vs. Mileage\n",
    "plt.subplot(2, 2, 1)\n",
    "sns.scatterplot(data=data_df_cleaned, x='Mileage', y='price', alpha=0.6, color='blue')\n",
    "plt.title(\"Price vs. Mileage\")\n",
    "plt.xlabel(\"Mileage (km)\")\n",
    "plt.ylabel(\"Price (€)\")\n",
    "\n",
    "# Price vs. Power\n",
    "plt.subplot(2, 2, 2)\n",
    "sns.scatterplot(data=data_df_cleaned, x='Power', y='price', alpha=0.6, color='orange')\n",
    "plt.title(\"Price vs. Power\")\n",
    "plt.xlabel(\"Power (kW)\")\n",
    "plt.ylabel(\"Price (€)\")\n",
    "\n",
    "# Price vs. Cubic Capacity\n",
    "plt.subplot(2, 2, 3)\n",
    "sns.scatterplot(data=data_df_cleaned, x='Cubic Capacity', y='price', alpha=0.6, color='green')\n",
    "plt.title(\"Price vs. Cubic Capacity\")\n",
    "plt.xlabel(\"Cubic Capacity (cc)\")\n",
    "plt.ylabel(\"Price (€)\")\n",
    "\n",
    "plt.tight_layout()\n",
    "plt.show()\n",
    "\n",
    "# Price vs. Categorical Variables\n",
    "plt.figure(figsize=(16, 8))\n",
    "\n",
    "# Price by Make\n",
    "plt.subplot(2, 2, 1)\n",
    "sns.boxplot(data=data_df_cleaned, x='price', y='Make', palette=\"viridis\", showfliers=False, hue='Make')\n",
    "plt.title(\"Price by Make\")\n",
    "plt.xlabel(\"Price (€)\")\n",
    "plt.ylabel(\"Make\")\n",
    "\n",
    "# Price by Fuel\n",
    "plt.subplot(2, 2, 2)\n",
    "sns.boxplot(data=data_df_cleaned, x='price', y='Fuel', palette=\"magma\", showfliers=False, hue='Fuel')\n",
    "plt.title(\"Price by Fuel Type\")\n",
    "plt.xlabel(\"Price (€)\")\n",
    "plt.ylabel(\"Fuel Type\")\n",
    "\n",
    "# Price by Transmission\n",
    "plt.subplot(2, 2, 3)\n",
    "sns.boxplot(data=data_df_cleaned, x='price', y='Transmission', palette=\"plasma\", showfliers=False, hue='Transmission')\n",
    "plt.title(\"Price by Transmission Type\")\n",
    "plt.xlabel(\"Price (€)\")\n",
    "plt.ylabel(\"Transmission\")\n",
    "\n",
    "plt.tight_layout()\n",
    "plt.show()\n"
   ]
  },
  {
   "cell_type": "markdown",
   "id": "4205f92435b7089a",
   "metadata": {},
   "source": [
    "## Correlation Analysis\n",
    "### Purpose:\n",
    "To identify linear relationships between numeric variables and the target variable (price)."
   ]
  },
  {
   "cell_type": "code",
   "execution_count": null,
   "id": "86f14330ba34bebd",
   "metadata": {
    "ExecuteTime": {
     "end_time": "2025-06-06T18:51:50.283115Z",
     "start_time": "2025-06-06T18:51:50.242257Z"
    }
   },
   "outputs": [],
   "source": [
    "# Correlation Matrix\n",
    "numeric_cols = ['price', 'Mileage', 'Cubic Capacity', 'Power']\n",
    "correlation_matrix = data_df_cleaned[numeric_cols].corr()\n",
    "\n",
    "# Heatmap of Correlations\n",
    "plt.figure(figsize=(8, 6))\n",
    "sns.heatmap(correlation_matrix, annot=True, cmap='coolwarm', fmt=\".2f\")\n",
    "plt.title(\"Correlation Matrix\")\n",
    "plt.show()\n"
   ]
  },
  {
   "cell_type": "markdown",
   "id": "1cd10e40630f8448",
   "metadata": {},
   "source": [
    "## Multivariate Analysis\n",
    "### Purpose:\n",
    "Explore how multiple variables interact, e.g., the effect of Make and Fuel type on price."
   ]
  },
  {
   "cell_type": "code",
   "execution_count": null,
   "id": "9ea8956b72b6d938",
   "metadata": {
    "ExecuteTime": {
     "end_time": "2025-06-06T18:51:50.615462Z",
     "start_time": "2025-06-06T18:51:50.291740Z"
    }
   },
   "outputs": [],
   "source": [
    "# Pairplot for selected features\n",
    "selected_features = ['price', 'Mileage', 'Power', 'Cubic Capacity']\n",
    "sns.pairplot(data_df_cleaned[selected_features], diag_kind='kde', corner=True)\n",
    "plt.show()"
   ]
  },
  {
   "cell_type": "code",
   "execution_count": null,
   "id": "133ae5fa9f0712db",
   "metadata": {
    "ExecuteTime": {
     "end_time": "2025-06-06T18:51:50.683834Z",
     "start_time": "2025-06-06T18:51:50.625264Z"
    }
   },
   "outputs": [],
   "source": [
    "# Boxplot with two categorical variables\n",
    "plt.figure(figsize=(12, 8))\n",
    "sns.boxplot(data=data_df_cleaned, x='Fuel', y='price', hue='Transmission', palette='viridis', showfliers=False)\n",
    "plt.title(\"Price by Fuel Type and Transmission\")\n",
    "plt.xlabel(\"Fuel Type\")\n",
    "plt.ylabel(\"Price (€)\")\n",
    "plt.legend(title=\"Transmission\")\n",
    "plt.show()"
   ]
  },
  {
   "cell_type": "markdown",
   "id": "736c5d91a412ed15",
   "metadata": {},
   "source": [
    "## Conclusions\n",
    "1. Bivariate Analysis\n",
    "\n",
    "* Price vs. Mileage:\n",
    "    * Clear negative relationship: cars with higher mileage generally have lower prices.\n",
    "    * A few outliers exist (e.g., low-price cars with very low mileage).\n",
    "* Price vs. Power:\n",
    "    * Positive relationship: cars with higher power (kW) tend to have higher prices.\n",
    "    * The trend weakens for vehicles with extremely high power.\n",
    "* Price vs. Cubic Capacity:\n",
    "    * Moderate positive relationship: larger engines generally correlate with higher prices.\n",
    "    * A notable clustering around common cubic capacities (e.g., ~2,000 cc).\n",
    "\n",
    "2. Price by Categorical Features\n",
    "\n",
    "* Price by Make:\n",
    "    * Luxury brands like Audi and BMW have higher median prices compared to Skoda and Volkswagen.\n",
    "    * Price variance is highest for Audi, reflecting its diverse product range.\n",
    "* Price by Fuel Type:\n",
    "    * Diesel cars tend to have slightly higher prices compared to petrol cars.\n",
    "    * Alternative fuels (e.g., hybrid) appear less frequently but with higher prices.\n",
    "* Price by Transmission:\n",
    "    * Automatic vehicles have higher median prices compared to manual ones.\n",
    "    * Likely reflects demand and technology differences.\n",
    "\n",
    "3. Correlation Analysis\n",
    "\n",
    "* Strongest Correlations:\n",
    "    * Power has a moderately strong positive correlation with price (~0.6).\n",
    "    * Mileage has a moderate negative correlation with price (~-0.5).\n",
    "    * Cubic Capacity shows a weaker positive correlation with price (~0.5).\n",
    "\n",
    "* Key Insights:\n",
    "    * Engine-related metrics (Power, Cubic Capacity) and Mileage are important predictors of price.\n",
    "    * Multicollinearity among numeric variables appears limited, which is ideal for modeling."
   ]
  },
  {
   "cell_type": "markdown",
   "id": "39db2e5660c057b0",
   "metadata": {},
   "source": [
    "## Feature Engineering\n",
    "\n",
    "* Derived Features:\n",
    "    * Vehicle Age: Extracted from the First Registration column.\n",
    "    * Mileage per Year: Normalized mileage based on vehicle age.\n",
    "\n",
    "* Encoded Features:\n",
    "    * Categorical columns (Make, Fuel, Transmission, Drive type) were one-hot encoded.\n",
    "    * Other categorical columns containing a high percentage of distinct values which are not relevant for the analysis (Interior Color, for example, we dropped)\n",
    "\n",
    "* Transformed Features:\n",
    "    * Log transformations applied to price (Log Price) and Mileage (Log Mileage) to handle skewness.\n",
    "\n",
    "* Standardized Features:\n",
    "    * Key numeric features (Mileage, Power, Cubic Capacity, Vehicle Age, Mileage per Year) were standardized to ensure consistent scaling."
   ]
  },
  {
   "cell_type": "code",
   "execution_count": null,
   "id": "943f9d79fea376d7",
   "metadata": {
    "ExecuteTime": {
     "end_time": "2025-06-06T18:51:50.713027Z",
     "start_time": "2025-06-06T18:51:50.692997Z"
    }
   },
   "outputs": [],
   "source": [
    "# Derive Features\n",
    "current_year = datetime.now().year\n",
    "data_df_cleaned['First Registration Year'] = data_df_cleaned['First Registration'].str.extract(r'(\\d{4})').astype(float)\n",
    "data_df_cleaned['Vehicle Age'] = current_year - data_df_cleaned['First Registration Year']\n",
    "data_df_cleaned['Mileage per Year'] = data_df_cleaned['Mileage'] / data_df_cleaned['Vehicle Age']\n",
    "\n",
    "# Encoding Categorical Variables\n",
    "categorical_columns_to_encode = ['Vehicle condition', 'Make', 'Category', 'Door Count', 'Emission Class',\n",
    "                                 'Climatisation', 'Parking sensors', 'Airbags', 'Colour', 'Fuel', 'Transmission',\n",
    "                                 'Drive type']\n",
    "\n",
    "# Perform one-hot encoding\n",
    "encoder = OneHotEncoder(sparse_output=False)\n",
    "encoded_columns = pd.DataFrame(\n",
    "    encoder.fit_transform(data_df_cleaned[categorical_columns_to_encode]),\n",
    "    columns=encoder.get_feature_names_out(categorical_columns_to_encode),\n",
    "    index=data_df_cleaned.index\n",
    ")\n",
    "\n",
    "# Drop all remaining categorical columns\n",
    "categorical_columns_to_drop = data_df_cleaned.select_dtypes(include='object').columns\n",
    "data_df_encoded = pd.concat([data_df_cleaned.drop(columns=categorical_columns_to_drop), encoded_columns], axis=1)\n",
    "\n",
    "# Step 3: Handle Skewness\n",
    "data_df_encoded['Log Price'] = np.log1p(data_df_encoded['price'])\n",
    "data_df_encoded['Log Mileage'] = np.log1p(data_df_encoded['Mileage'])\n",
    "\n",
    "# Step 4: Standardization\n",
    "numeric_features = ['Mileage', 'Power', 'Cubic Capacity', 'Vehicle Age', 'Mileage per Year']\n",
    "scaler = StandardScaler()\n",
    "data_df_encoded[numeric_features] = scaler.fit_transform(data_df_encoded[numeric_features])\n",
    "\n",
    "print(\"Feature Engineering Summary:\")\n",
    "print(f\"- Encoded Features: {encoder.get_feature_names_out(categorical_columns_to_encode).tolist()}\")\n",
    "print(f\"- Dropped Columns: {categorical_columns_to_drop.tolist()}\")\n",
    "print(\"Transformed Dataset:\")\n",
    "print(data_df_encoded.info())\n"
   ]
  },
  {
   "cell_type": "code",
   "execution_count": 21,
   "id": "e1b0fb186b09888c",
   "metadata": {
    "ExecuteTime": {
     "end_time": "2025-06-06T18:51:50.828197Z",
     "start_time": "2025-06-06T18:51:50.727751Z"
    }
   },
   "outputs": [],
   "source": [
    "# Save the final dataset to a CSV file\n",
    "data_df_encoded.to_csv('./data/processed_data.csv', index=False)"
   ]
  }
 ],
 "metadata": {
  "kernelspec": {
   "display_name": ".venv",
   "language": "python",
   "name": "python3"
  },
  "language_info": {
   "codemirror_mode": {
    "name": "ipython",
    "version": 3
   },
   "file_extension": ".py",
   "mimetype": "text/x-python",
   "name": "python",
   "nbconvert_exporter": "python",
   "pygments_lexer": "ipython3",
   "version": "3.11.11"
  }
 },
 "nbformat": 5,
 "nbformat_minor": 9
}
